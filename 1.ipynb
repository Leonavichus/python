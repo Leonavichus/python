{
  "nbformat": 4,
  "nbformat_minor": 0,
  "metadata": {
    "colab": {
      "provenance": [],
      "collapsed_sections": [],
      "authorship_tag": "ABX9TyOuQD7HcueU67ATKOD7NM8v",
      "include_colab_link": true
    },
    "kernelspec": {
      "name": "python3",
      "display_name": "Python 3"
    },
    "language_info": {
      "name": "python"
    }
  },
  "cells": [
    {
      "cell_type": "markdown",
      "metadata": {
        "id": "view-in-github",
        "colab_type": "text"
      },
      "source": [
        "<a href=\"https://colab.research.google.com/github/Leonavichus/python/blob/main/1.ipynb\" target=\"_parent\"><img src=\"https://colab.research.google.com/assets/colab-badge.svg\" alt=\"Open In Colab\"/></a>"
      ]
    },
    {
      "cell_type": "markdown",
      "source": [
        "***Лабораторная работа №1***"
      ],
      "metadata": {
        "id": "Fz7Dhl9naHLx"
      }
    },
    {
      "cell_type": "markdown",
      "source": [
        "![Screenshot_2022-10-31-12-21-14_1920x1080.png](data:image/png;base64,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)"
      ],
      "metadata": {
        "id": "Hk8600nRWIHW"
      }
    },
    {
      "cell_type": "code",
      "execution_count": 1,
      "metadata": {
        "colab": {
          "base_uri": "https://localhost:8080/"
        },
        "id": "U9qlLF5hVHbf",
        "outputId": "235ccd72-5627-4690-f303-c2be3c08f597"
      },
      "outputs": [
        {
          "output_type": "execute_result",
          "data": {
            "text/plain": [
              "-3.852248457043731"
            ]
          },
          "metadata": {},
          "execution_count": 1
        }
      ],
      "source": [
        "x=6\n",
        "y=(5-2*x)/(x)**(1/3)\n",
        "y"
      ]
    },
    {
      "cell_type": "code",
      "source": [
        "x=int(input('x='))\n",
        "y=(5-2*x)/(x)**(1/3)\n",
        "y"
      ],
      "metadata": {
        "colab": {
          "base_uri": "https://localhost:8080/"
        },
        "id": "zRgZut84VfU0",
        "outputId": "5b7ea904-5ffa-4659-cb6d-03f35df31e62"
      },
      "execution_count": 3,
      "outputs": [
        {
          "name": "stdout",
          "output_type": "stream",
          "text": [
            "x=1\n"
          ]
        },
        {
          "output_type": "execute_result",
          "data": {
            "text/plain": [
              "3.0"
            ]
          },
          "metadata": {},
          "execution_count": 3
        }
      ]
    },
    {
      "cell_type": "markdown",
      "source": [
        "***Вычисление f***"
      ],
      "metadata": {
        "id": "ELZQSvOHWTDj"
      }
    },
    {
      "cell_type": "markdown",
      "source": [
        "![Screenshot_2022-10-31-12-20-13_1920x1080.png](data:image/png;base64,iVBORw0KGgoAAAANSUhEUgAAAPAAAABWCAYAAADxEBthAAASkElEQVR4nO2deVQT1/vGnyibWhWKorJGj9Cq7ZHF06IIGLC2itjSRa2tBUHKH25AtR5qLbhU4UBxw1NRi6DWrR7c2mrBEkFrBRdwQavoKSBCUASpBgRJ3t8f/pIvMQghITMTMp9/NHfu3PeZObwzd+7cea6AiAg8PDwGSQ+2BfDw8GgPn8A8PAYMn8A8PAYMn8A8PAaM0SdwUVER2xJ4eLTGKBP41KlTCAoKgkAgQGRkJNty2uTcuXNYunQpIiIisGvXLsjlcrYl8XAQo0vgyMhIiEQi1NXVobCwEKdOnWJbkhqXLl1CWFgYXn31VZiZmWHu3LmIiopiWxYPFyEjIjg4mABQcHAw21LaZefOnVRYWKj8nZCQQP369SO5XM6iKh4uYjR34PXr1yMjIwO+vr5IT09nW067TJw4Ea6ursrfo0ePBhFBIBCwqIodKisr290ulUrR2NjIkBruYRQJ/OjRI6xYsQIAEBcXx64YDRgyZIjK77Nnz+KLL75gSQ3zNDc3Y/fu3fD09ERYWFibdbKzsxEYGIjo6Gj4+fnBx8cHJSUlDCvlAGx3AZhg3bp1BIB8fX3ZltJpysrKyNvbmx4/fsy2FEZISEggR0dHmjt3Lg0YMIDeffddtTp///03DR06lOrq6oiISC6X09SpU2n48OHU1NTEtGRWMYo7sKLLHBISwqqOziKVShEdHY29e/filVdeYVsOIzg5OeHChQvYtm0b+vTp02admJgYzJo1C5aWlgAAgUCAJUuW4Pbt28jMzGRSLusYRQJfvnwZACAUCtkV8v9IpVLcu3dPrbyqqkr5/+bmZsyfPx8JCQmws7PTe7zOUl5ejoULF2Ljxo26SFNjxowZGDhw4Eu319TUIDc3Fx4eHirlb7/9NkxMTPDnn392qR6u0+0TuPVrogkTJrCmQ4FEIoGzszPs7e2xdu1aAIBcLkdYWBhsbW1x9+5dyGQyREREYPbs2ejduzcqKipQVlaGmpoavcTrDDdu3EBISAjc3NxgZmaG6dOnd1qTLhQVFYGIYGtrq1Jubm4OW1tb3Llzh1E9bNPtE5hrbNmyBUeOHMGUKVOQnJwMAPj+++/h4uKC1atXw8HBAdHR0UhPT4e/vz9sbW3h4OAAoVCI+Ph4vcTThIKCAnz44YcQiUQYPnw4bt++jaSkJAwePLjTmnRBccFpq3ttbW2N+vp6RvWwDtsP4fpGLBYTAOrfvz/bUlQ4c+YMAaC9e/dSenq6yraGhgaSSqXU3NxMMpmMpFIpPX78WKcBmvbitUd2djb5+/uTUCikTZs2UUNDg9YaOouTk5PaINamTZsIAF2/fl2tvqenJ7m6ujIljxOYsHv5YI6hQ4eyLUGFt956C+bm5hCLxUhNTVXZ1qtXL5XfvXv31mu8tjhx4gS+++47PH36FEuXLsXMmTPRs2fPDvd79uwZPv300w7rTZs2TatXYz16PO80Njc3q20jopcOfHVXjCaBufbRgqmpKUaMGIFhw4ZxMp5MJoNMJkNzczOampogk8k0SuAePXpg6tSpHdYbOXKkRjpepG/fvgCAuro6tW2NjY0YMWKEVu0aKkaTwFzj1q1bqK2txZUrVzgZLyAgAAEBAcjKykJ8fDxiY2MRHR2NL7/8st27XM+ePfX6uk7RkyovL1fbJpFI8Mknn+gtNhfhB7FYQCaTIS0tDQsWLNDpYwoiQkFBAVpaWvQWb9KkScjJyUFmZiZOnz4NoVCIuLg4PHz4UGvduuDu7g5zc3NcvHhRpVwikeD+/ft47733WNHFGmw/hDMBAOLCoe7YsYNqampo3rx5dPPmTcrJySEA9Ntvv1F2djadPn1a47YaGhpoyJAh5OTkRC0tLXqPp+Cff/6h0NBQsrKyokWLFtG9e/c63Yam2NjYkI+Pj1p5aGgoDR48mJ48eaIs++GHH8jPz09vWrgK+3/VDKBIYMXUO7YQiURkbm5O+/fvJyKi5uZmEgqFZGFhQVu3bu1UW3l5eQSAUlNTGYn3IhUVFfTVV1/R5s2bdWrnRaqqqig6OpoCAgIIAJmYmNDMmTNp+fLlyjr19fXk4+ND3t7e9Msvv1BiYiKNHTtWrxcTriIg6v62soqveMRiMauTOWpqaiCXy2FjY6Msq6urg0AgUE4L1JT58+fj3LlzyM/Pf+ngUlfGYwq5XI6GhgaYmprCzMwMRITm5mY8e/ZMOYAFPH98yM/Px7///gsHBweMGzdOOUJtTPAJbIDU1NRgxIgRyMnJwZtvvsm2HB4WMYpL1ujRowEApaWl7ArpInbu3Il169bxyctjHK+RFN3F7pLA0dHRbEvg4QhGcQfm4emuGEUCc+UzQh6ersaoEri7dKF5eBSwksAXL16Er68v7OzsIBaL2ZDAw9MtYHwQa+vWrcjPz0dMTAxSU1Ph5ubGWGy+K83T3WA0gbOysrBs2TLcvXsXFhYW3XLeamNjI3r27AkzMzO2pWhFZWWlmttFa6RSKXr06KH2yaMxwMVjZzSBU1NTIRKJYGFhwWRYRvj555+xf/9+2Nvbo6ysDI8ePUJKSgqjPQxtaW5uxoEDB5CSkgIrKyscP35crU52djY2btwIW1tbXLlyBaampvjpp5/g7OzMgmJm4fSxMzlv09ramtauXctkSCIiio2NJQAkFov10v6mTZtozJgxKo4ZSUlJNGjQIJUJ91yEt3FtH64fO2ODWMePH8fDhw/x5MkTHDx4kFETbsXH/K1XO+hKkpKS8P7776t0m8PCwlBdXa10xOQqvI1r+3D92BnpQicmJmL37t0AnpujXbhwAWlpae3u8/XXX2v08XloaGiHzohFRUXw9fXV2wT+6upqXLt2TaVMKpXCxMQETk5OKmWPHj1Ss4mtqqpSW42BKWbMmNHudoWN68KFC1XKW9u4zpw5U+v45eXlSEpKwvDhw9VitEZf5669+Po+9q6AkQResmQJTExMkJSUhKysLI32GT9+vEb2Ly4uLu1uLy0tRVlZmV7XQ/L09MT+/fvh4uKCb7/9FmZmZlixYgXWrl2r/IOTSCRwd3dHVVUV1qxZg5iYGMjlcoSHhyMtLQ3l5eUaO0Qyib5sXG/cuIGEhAQcO3YMc+bMafcirI9zp0l8g7CwZaqvHh4eTkFBQUyFIyKiuro6cnV1pUWLFuk1TklJCTk6OhIAcnR0JH9/f9q2bZtKndjYWCooKKApU6bQgAEDiIho5cqVFB8fT6tXr9arPk1pywUyLS2NANDVq1fV6ru5uZG7u3unYuTn51NQUBANGjSIVq1aRbW1tR3u05XnrjPxu/rY9QFjCezl5cXoAFZsbCxZWlrSjh07GIknFovJwcGBLC0tCQANHDiQdu3apVZPW3tXJtCnjWtX2NPqcu60iW8IFraMvUYqLi7G6tWrNa4fGxuL4uLiDut9/vnn+OCDD9TKFWXr16/HhAkT2p3EoasVakZGBjZv3oyLFy+iV69e+PHHH7Fy5UrMnj0b5ubmKkZrnbV37Qiu27hqa0/bFtqcO13iG4KFLSMJXFFRgcePH2PMmDEa7zNy5EgVB4aX8bJJB66urspRZ5FIhMLCwpcOYulihVpZWYmIiAgUFBQo1/RZsmQJvLy84O3tje3bt6skcFfbyXLdxlVbe9q20Obc6RLfICxsmbjNHzt2jNXnBQAUGxurl7YzMjKob9++bW7z9vYmLy8vlbKbN2+So6MjzZo1Sy96dKGtLvTp06cJAGVkZKjVt7GxoVWrVmnU9h9//EEikYjs7e0pOTlZq/fjupw7beJ31bHrE0beA1+6dAk+Pj5MhGoTX19fbNiwQS9tCwQCNDY2ttnNamhowPjx45W/NbF3JQ2tYpmiq2xcdbWn1dWKV5v4BmFhy8RVIiAggI4ePcpEqDYJDg4mAFRYWNjlbUskEurTpw+lpaWplJ89e5YcHBzo/v37Gtu7amIVq0+YtHHV1J5WH9a4nYnPdQtbvSewTCZjfdqZYiqlvkaks7KyaNiwYRQTE0OHDh2iNWvWkL+/P5WUlBCR5vaumljFdjVs27h2ZE+rT2tcTeJz3cJW766UeXl5OH78uHJtWjaIi4vDihUrEBsbi7i4OL3EaGhowPnz51FVVQVnZ2eVBag1tXfVxCq2q+G6jSsXrHHZOnaN0MdVobGxkU6ePEn//fcfhYaGklQq1UcYjVHcgfU1kNUVPHjwgAYMGEBXrlxhWwqPAaGX10hnzpzBO++8A09PT+zbt69Llsfs7vBWsTzaoJcE9vDwQFFRkdKPmSvospCYvuGtYnm0QS8JbGVlBSsrK300rRPdYVUGHp7WcORJXL9w+c7Lw6MLRpHAPDzdFT6BeXgMGKNIYIWlDv8MzNPdMIoErq+vZ1tCp5HL5WxL4DxSqRSNjY1sy2AVo0hgBVxd1PpFrl69in79+mH58uVsS+Ek2dnZCAwMRHR0NPz8/ODj48OoSSKXMIrlRRXoy5Wyq5HL5SAiyGQytqVwjnPnziEiIgKXLl2CpaUliAjTpk3DlClTUFxcbLCG+tqi97nQbFNaWoqhQ4cCeD6n1VCQy+XcmW/LIUQiEby8vFTcXfLy8uDr64u9e/ey7hLJNN3+L8RQVyTsyuSVSqW4d++eWnlVVRXjbc6ePRsbNmxAQ0NDp2MqbF5bfygCqNq8GhvdPoG5SGVlJaKiojB//nwEBQVBJBIpbW8lEgkyMzMRERGBVatWKfe5evUqtm/fjsDAQPz1118Qi8UYO3YsnJ2d8dFHH+HGjRttxpJIJHB2doa9vb3yizC5XI6wsDDY2tri7t27ndavS5uRkZHIzc2FUCjEypUrUVtbq3Fcg7B5ZRijSeDWButs0tTUBD8/P0yePBkpKSk4dOgQvvnmG5w4cQLAc6PxCxcuYOvWraiurlbuV1xcjMOHD+PXX3/Ftm3bcPToUSxbtgzh4eE4ceIEJk2a1OZdbcuWLThy5AimTJmC5ORkAMD3338PFxcXrF69Wisval3a9PDwQGZmJvLy8lBaWgpnZ2csXrwYlZWVHcZVXBjaMpOztrY2yLcNOsPmp1BMIBaLCQAJhUK2pRDRc6cOAMqP/RW0Nht48uQJAaB58+ap1Nm3bx8BUPNiio+PJwCUnZ390rj6sLPtijYrKiooKiqKrK2tKTw8XO28tMYQbF6ZxmjuwFx5Fu7Xrx8AYPLkydiwYQNKSkpARAgJCVHWednH/IpyT09PlXIvLy8AaLfr2tqSNTg4WJdD6NI27ezskJycjJKSEjg4OGD8+PGYOXNmm6+FDMHmlWmMJoG5wqhRo5CYmIjq6mpERkbCxcUFNjY2nfLMfhHFcq3tvXbqajvbrm6zpaUFTU1NaGlpQUtLS5sTWTqyebW3t9dZh6HR7RO4taE7V+7Cixcvxv3793H06FEsXrwYJiYmWL58ObKzs/UW89atW6itrdVowTgm2ywrK8OCBQvg4uICiUSCs2fP4uDBg3jttdfU6ipeB5aXl6ttk0gkeOONN7TWYagYRQL3798fwP/mRLPJjRs3cOrUKVhYWCAwMBCJiYm4fPkyBAJBm69luoLOWrKSBta2utq8Xrt2DbNnz4a7uzssLCxQXFyM7du3t7tYnUHYvDJMt09g4H/LrHDhu+DKykrk5uaqlNXX16NPnz6YNGkSgOfLpQBQS6CXlSt4sTw9PR0PHz7EokWLEBoaCg8PD1RWVuL333/HyZMncebMGbU2GhsbYWdnh+nTp0MgEKht16bN1hQUFGDatGmYOHEiXn/9ddy5cweJiYkvXWGjNb1798Znn32GAwcOQCqVKsv37NkDPz+/Tq380W1geRCNERQj0ZaWlsqV1tli9+7dZGpqSlFRUbRnzx5at24dBQQEUG5uLhERZWZm0scff0wAyM7OjhYtWkQPHjygVatWkYeHBwGgcePGUVJSkrLN8+fPEwAaNWqUymp92liydmRtq6vN65w5cyglJUWrxc2IuG/zyjTdfiqlggkTJiA3N1ev1rKacvPmTVy/fh0ymQzDhg2Dm5ub8m739OlTCAQCmJmZQS6Xo6mpCRYWFmhsbISZmRlMTEzQ0tKCZ8+eKc0CZTIZWlpaYGpqiqamJvTq1QuAdpasHVnb8jav3MJoEri0tBSurq4QCAQQi8UG82EDk9TU1GDEiBHIycnh3TENBKO5bAmFQpw6dQpEBJFIxInnYa7BW9saHkZzB1ZQWlqKkJAQ5ObmIiQkBCEhIfD19WVbFg+PVhhdAisoKirC4cOHlf/y8BgiRpvAPDzdAaN5Bubh6Y7wCczDY8DwCczDY8DwCczDY8DwCczDY8DwCczDY8DwCczDY8DwCczDY8DwCczDY8DwCczDY8DwCczDY8D8H3f3GL5CrVv0AAAAAElFTkSuQmCC)"
      ],
      "metadata": {
        "id": "MCQ2dteiV4Vp"
      }
    },
    {
      "cell_type": "code",
      "source": [
        "import numpy\n",
        "x = int(input('x='))\n",
        "if x < -10:\n",
        "  f = x**2\n",
        "elif x > 0:\n",
        "  f = numpy.sin(x)\n",
        "else:\n",
        "  f = -8*x\n",
        "f"
      ],
      "metadata": {
        "colab": {
          "base_uri": "https://localhost:8080/"
        },
        "id": "KR5qMHA4We7X",
        "outputId": "a24aff91-a0ff-4dc8-fa5b-4ddb80b9999d"
      },
      "execution_count": 6,
      "outputs": [
        {
          "name": "stdout",
          "output_type": "stream",
          "text": [
            "x=4\n"
          ]
        },
        {
          "output_type": "execute_result",
          "data": {
            "text/plain": [
              "-0.7568024953079282"
            ]
          },
          "metadata": {},
          "execution_count": 6
        }
      ]
    },
    {
      "cell_type": "markdown",
      "source": [
        "Работа со списками. ![Screenshot_2022-10-31-12-26-08_1920x1080.png](data:image/png;base64,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)"
      ],
      "metadata": {
        "id": "IwdUCiu_XFcR"
      }
    },
    {
      "cell_type": "code",
      "source": [
        "c = [c *3 for c in 'list']\n",
        "c"
      ],
      "metadata": {
        "colab": {
          "base_uri": "https://localhost:8080/"
        },
        "id": "rUafBByUXYew",
        "outputId": "751b5ad9-70d9-4809-e0c1-dc90ff33765d"
      },
      "execution_count": 7,
      "outputs": [
        {
          "output_type": "execute_result",
          "data": {
            "text/plain": [
              "['lll', 'iii', 'sss', 'ttt']"
            ]
          },
          "metadata": {},
          "execution_count": 7
        }
      ]
    },
    {
      "cell_type": "markdown",
      "source": [
        "**Создание таблицы умножения.**"
      ],
      "metadata": {
        "id": "SztZXz4IX65Z"
      }
    },
    {
      "cell_type": "code",
      "source": [
        "n=7\n",
        "for i in range(1, n+1):\n",
        "  print(*range(i, i*n+1, i), sep='\\t')"
      ],
      "metadata": {
        "colab": {
          "base_uri": "https://localhost:8080/"
        },
        "id": "xeyNBEE7Xo37",
        "outputId": "83147e26-5bb4-4189-f8b2-39eab286b4e4"
      },
      "execution_count": 8,
      "outputs": [
        {
          "output_type": "stream",
          "name": "stdout",
          "text": [
            "1\t2\t3\t4\t5\t6\t7\n",
            "2\t4\t6\t8\t10\t12\t14\n",
            "3\t6\t9\t12\t15\t18\t21\n",
            "4\t8\t12\t16\t20\t24\t28\n",
            "5\t10\t15\t20\t25\t30\t35\n",
            "6\t12\t18\t24\t30\t36\t42\n",
            "7\t14\t21\t28\t35\t42\t49\n"
          ]
        }
      ]
    },
    {
      "cell_type": "markdown",
      "source": [
        "**Пример обработки двумерного массива.**"
      ],
      "metadata": {
        "id": "oJCW7gpWYJ2Z"
      }
    },
    {
      "cell_type": "code",
      "source": [
        "n = 4\n",
        "a = [[0] * n for i in range(n)]\n",
        "for i in range(n):\n",
        "  for j in range(n):\n",
        "    if i < j:\n",
        "      a[i][j] = 0\n",
        "    elif i > j:\n",
        "      a[i][j] = 2\n",
        "    else:\n",
        "      a[i][j] = 1\n",
        "for row in a:\n",
        "  print(' '.join([str(elem) for elem in row]))"
      ],
      "metadata": {
        "colab": {
          "base_uri": "https://localhost:8080/"
        },
        "id": "gGlJdPLxYPEV",
        "outputId": "c8d75cc3-e12f-4bee-9bb1-5ef41436b99b"
      },
      "execution_count": 9,
      "outputs": [
        {
          "output_type": "stream",
          "name": "stdout",
          "text": [
            "1 0 0 0\n",
            "2 1 0 0\n",
            "2 2 1 0\n",
            "2 2 2 1\n"
          ]
        }
      ]
    },
    {
      "cell_type": "markdown",
      "source": [
        "***Самостоятельная работа.***"
      ],
      "metadata": {
        "id": "HGmgBvCbY6k2"
      }
    },
    {
      "cell_type": "markdown",
      "source": [
        "**1. Вывести максимальное из двух чисел А и В.**"
      ],
      "metadata": {
        "id": "wUDqDqREZEVP"
      }
    },
    {
      "cell_type": "code",
      "source": [
        "a = int(input('A = '))\n",
        "b = int(input('B = '))\n",
        "max(a, b)"
      ],
      "metadata": {
        "colab": {
          "base_uri": "https://localhost:8080/"
        },
        "id": "HRC7JufVZHf2",
        "outputId": "875c0bda-dfe0-44d3-915c-f052412c5429"
      },
      "execution_count": 11,
      "outputs": [
        {
          "name": "stdout",
          "output_type": "stream",
          "text": [
            "A = 134\n",
            "B = 23145\n"
          ]
        },
        {
          "output_type": "execute_result",
          "data": {
            "text/plain": [
              "23145"
            ]
          },
          "metadata": {},
          "execution_count": 11
        }
      ]
    },
    {
      "cell_type": "markdown",
      "source": [
        "**2. Проверить число А на четность.**"
      ],
      "metadata": {
        "id": "XW4o1rcXZZAP"
      }
    },
    {
      "cell_type": "code",
      "source": [
        "a = int(input('A = '))\n",
        "if a%2 == 0:\n",
        "  print('Четное')\n",
        "else:\n",
        "  print('Нечетное')"
      ],
      "metadata": {
        "colab": {
          "base_uri": "https://localhost:8080/"
        },
        "id": "nYa34N_nZcVd",
        "outputId": "8d0f3924-bec0-4f27-ca29-814800874840"
      },
      "execution_count": 14,
      "outputs": [
        {
          "output_type": "stream",
          "name": "stdout",
          "text": [
            "A = 122\n",
            "Четное\n"
          ]
        }
      ]
    },
    {
      "cell_type": "markdown",
      "source": [],
      "metadata": {
        "id": "EtUY-MeZZ7c4"
      }
    },
    {
      "cell_type": "markdown",
      "source": [
        "**3. Рассчитать значение f в зависимости от x.**"
      ],
      "metadata": {
        "id": "10R8LyW5Zz8B"
      }
    },
    {
      "cell_type": "markdown",
      "source": [
        "![Screenshot_2022-10-31-12-37-53_1920x1080.png](data:image/png;base64,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)"
      ],
      "metadata": {
        "id": "iWCOEMmDZ8dg"
      }
    },
    {
      "cell_type": "code",
      "source": [
        "import numpy\n",
        "x = int(input('x='))\n",
        "if x < -3:\n",
        "  f = numpy.cos(3*x)\n",
        "elif x > -3 and x < 0:\n",
        "  f = 2*x/(x-9)\n",
        "else:\n",
        "  f = (3+x)**(1/5)\n",
        "f"
      ],
      "metadata": {
        "colab": {
          "base_uri": "https://localhost:8080/"
        },
        "id": "LtL-LE-ZaSYg",
        "outputId": "b1a7fa73-d66d-404d-d64c-4a934e956114"
      },
      "execution_count": 16,
      "outputs": [
        {
          "name": "stdout",
          "output_type": "stream",
          "text": [
            "x=5\n"
          ]
        },
        {
          "output_type": "execute_result",
          "data": {
            "text/plain": [
              "1.5157165665103982"
            ]
          },
          "metadata": {},
          "execution_count": 16
        }
      ]
    }
  ]
}