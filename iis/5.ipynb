{
  "cells": [
    {
      "cell_type": "markdown",
      "metadata": {
        "colab_type": "text",
        "id": "view-in-github"
      },
      "source": [
        "<a href=\"https://colab.research.google.com/github/Leonavichus/python/blob/main/lab5.ipynb\" target=\"_parent\"><img src=\"https://colab.research.google.com/assets/colab-badge.svg\" alt=\"Open In Colab\"/></a>"
      ]
    },
    {
      "cell_type": "code",
      "execution_count": null,
      "metadata": {
        "colab": {
          "base_uri": "https://localhost:8080/"
        },
        "id": "VLGp1iil-QAL",
        "outputId": "2ddd93a9-e272-4d89-e437-1b75610adf73"
      },
      "outputs": [
        {
          "name": "stdout",
          "output_type": "stream",
          "text": [
            "эволюция НС: 0\n",
            "веса: [0, 0, 0, 0]\n",
            "обучение...\n",
            "эволюция НС: 0.2\n",
            "веса: [0, 0, 0.2, 0]\n",
            "обучение...\n",
            "эволюция НС: 0.4\n",
            "веса: [0, 0, 0.4, 0]\n",
            "обучение...\n",
            "эволюция НС: 0.6000000000000001\n",
            "веса: [0, 0, 0.6000000000000001, 0]\n",
            "обучение...\n",
            "эволюция НС: 0.8\n",
            "веса: [0, 0, 0.8, 0]\n",
            "обучение...\n",
            "эволюция НС: 1.0\n",
            "веса: [0, 0, 1.0, 0]\n",
            "обучение...\n"
          ]
        }
      ],
      "source": [
        "# Веса\n",
        "inputs = [0, 0, 1, 0]\n",
        "weights = [0, 0, 0, 0]\n",
        "# Ожидаемый результат\n",
        "desired_result = 1\n",
        "# Коэфициент обучения\n",
        "learning_rate = 0.2\n",
        "# Количество повторов\n",
        "trials = 6\n",
        "\n",
        "# Функция, которая получает значения весов на входе и расчитывает их значение на выходе\n",
        "def evaluate_neural_network(input_array, weight_array):\n",
        "    result = 0\n",
        "    for i in range(len(input_array)):\n",
        "        layer_value = input_array[i] * weight_array[i]\n",
        "        result += layer_value\n",
        "    print(\"эволюция НС: \" + str(result))\n",
        "    print(\"веса: \" + str(weights))\n",
        "    return result\n",
        "\n",
        "# Функция обучения, добавляет к весу коэф.обучения\n",
        "def learn(input_array, weight_array):\n",
        "    print(\"обучение...\")\n",
        "    for i in range(len(input_array)):\n",
        "        if input_array[i] > 0:\n",
        "            weight_array[i] += learning_rate\n",
        "\n",
        "#Функция которая производит указанное количество повторов\n",
        "def train(trials):\n",
        "    for i in range(trials):\n",
        "        neural_net_result = evaluate_neural_network(inputs, weights)\n",
        "        learn(inputs, weights)\n",
        "        \n",
        "train(trials)"
      ]
    },
    {
      "cell_type": "code",
      "execution_count": null,
      "metadata": {
        "colab": {
          "base_uri": "https://localhost:8080/"
        },
        "id": "xSa-SsU5-iqY",
        "outputId": "4e249ba1-bb8d-42bb-9afb-4b3972da6d3c"
      },
      "outputs": [
        {
          "name": "stdout",
          "output_type": "stream",
          "text": [
            "эволюция НС: 0\n",
            "веса: [0, 0, 0, 0]\n",
            "обучение...\n",
            "эволюция НС: 0.2\n",
            "веса: [0, 0, 0.2, 0]\n",
            "обучение...\n",
            "эволюция НС: 0.4\n",
            "веса: [0, 0, 0.4, 0]\n",
            "обучение...\n",
            "эволюция НС: 0.6000000000000001\n",
            "веса: [0, 0, 0.6000000000000001, 0]\n",
            "обучение...\n",
            "эволюция НС: 0.8\n",
            "веса: [0, 0, 0.8, 0]\n",
            "обучение...\n",
            "эволюция НС: 1.0\n",
            "веса: [0, 0, 1.0, 0]\n",
            "обучение...\n",
            "эволюция НС: 1.2\n",
            "веса: [0, 0, 1.2, 0]\n",
            "обучение...\n",
            "эволюция НС: 1.4\n",
            "веса: [0, 0, 1.4, 0]\n",
            "обучение...\n"
          ]
        }
      ],
      "source": [
        "inputs = [0, 0, 1, 0]\n",
        "weights = [0, 0, 0, 0]\n",
        "\n",
        "desired_result = 1\n",
        "learning_rate = 0.2\n",
        "trials = 8\n",
        "\n",
        "def evaluate_neural_network(input_array, weight_array):\n",
        "    result = 0\n",
        "    for i in range(len(input_array)):\n",
        "        layer_value = input_array[i] * weight_array[i]\n",
        "        result += layer_value\n",
        "    print(\"эволюция НС: \" + str(result))\n",
        "    print(\"веса: \" + str(weights))\n",
        "    return result\n",
        "    \n",
        "def learn(input_array, weight_array):\n",
        "    print(\"обучение...\")\n",
        "    for i in range(len(input_array)):\n",
        "        if input_array[i] > 0:\n",
        "            weight_array[i] += learning_rate\n",
        "            \n",
        "def train(trials):\n",
        "    for i in range(trials):\n",
        "        neural_net_result = evaluate_neural_network(inputs, weights)\n",
        "        learn(inputs, weights)\n",
        "        \n",
        "train(trials)"
      ]
    },
    {
      "cell_type": "markdown",
      "metadata": {
        "id": "kRjAgZrCKNOs"
      },
      "source": [
        "При увеличении количество повторов нейросеть эволюцианирует лучше и наоборот."
      ]
    },
    {
      "cell_type": "code",
      "execution_count": null,
      "metadata": {
        "colab": {
          "base_uri": "https://localhost:8080/"
        },
        "id": "1FoIPDUA-rym",
        "outputId": "0bc664cf-1c66-4f7e-ce3d-7d13519708f3"
      },
      "outputs": [
        {
          "name": "stdout",
          "output_type": "stream",
          "text": [
            "эволюция НС: 0\n",
            "веса: [0, 0, 0, 0]\n",
            "обучение...\n",
            "эволюция НС: 0.8\n",
            "веса: [0, 0, 0.8, 0]\n",
            "обучение...\n",
            "эволюция НС: 1.6\n",
            "веса: [0, 0, 1.6, 0]\n",
            "обучение...\n",
            "эволюция НС: 2.4000000000000004\n",
            "веса: [0, 0, 2.4000000000000004, 0]\n",
            "обучение...\n",
            "эволюция НС: 3.2\n",
            "веса: [0, 0, 3.2, 0]\n",
            "обучение...\n",
            "эволюция НС: 4.0\n",
            "веса: [0, 0, 4.0, 0]\n",
            "обучение...\n"
          ]
        }
      ],
      "source": [
        "inputs = [0, 0, 1, 0]\n",
        "weights = [0, 0, 0, 0]\n",
        "\n",
        "desired_result = 1\n",
        "learning_rate = 0.8\n",
        "trials = 6\n",
        "\n",
        "def evaluate_neural_network(input_array, weight_array):\n",
        "    result = 0\n",
        "    for i in range(len(input_array)):\n",
        "        layer_value = input_array[i] * weight_array[i]\n",
        "        result += layer_value\n",
        "    print(\"эволюция НС: \" + str(result))\n",
        "    print(\"веса: \" + str(weights))\n",
        "    return result\n",
        "    \n",
        "def learn(input_array, weight_array):\n",
        "    print(\"обучение...\")\n",
        "    for i in range(len(input_array)):\n",
        "        if input_array[i] > 0:\n",
        "            weight_array[i] += learning_rate\n",
        "            \n",
        "def train(trials):\n",
        "    for i in range(trials):\n",
        "        neural_net_result = evaluate_neural_network(inputs, weights)\n",
        "        learn(inputs, weights)\n",
        "        \n",
        "train(trials)"
      ]
    },
    {
      "cell_type": "markdown",
      "metadata": {
        "id": "BQr-ynUfKdFc"
      },
      "source": [
        "При увеличении коэфициента обучения нейросеть эволюцианирует быстрее и наоборот."
      ]
    }
  ],
  "metadata": {
    "colab": {
      "authorship_tag": "ABX9TyPq6tLt10CqGF1UBo7pMBWQ",
      "include_colab_link": true,
      "provenance": []
    },
    "kernelspec": {
      "display_name": "Python 3",
      "name": "python3"
    },
    "language_info": {
      "name": "python"
    }
  },
  "nbformat": 4,
  "nbformat_minor": 0
}
