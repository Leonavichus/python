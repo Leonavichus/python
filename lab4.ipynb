{
  "nbformat": 4,
  "nbformat_minor": 0,
  "metadata": {
    "colab": {
      "provenance": [],
      "authorship_tag": "ABX9TyPGiKh6WQnBUsR1Q8r2aUq+",
      "include_colab_link": true
    },
    "kernelspec": {
      "name": "python3",
      "display_name": "Python 3"
    },
    "language_info": {
      "name": "python"
    }
  },
  "cells": [
    {
      "cell_type": "markdown",
      "metadata": {
        "id": "view-in-github",
        "colab_type": "text"
      },
      "source": [
        "<a href=\"https://colab.research.google.com/github/Leonavichus/python/blob/main/lab4.ipynb\" target=\"_parent\"><img src=\"https://colab.research.google.com/assets/colab-badge.svg\" alt=\"Open In Colab\"/></a>"
      ]
    },
    {
      "cell_type": "markdown",
      "source": [
        "***Лабораторная работа №4***"
      ],
      "metadata": {
        "id": "3tuz6gEmmz9a"
      }
    },
    {
      "cell_type": "code",
      "execution_count": null,
      "metadata": {
        "colab": {
          "base_uri": "https://localhost:8080/"
        },
        "id": "FtyoDpvdAMLf",
        "outputId": "66f3ba37-bbd6-49f5-d5ca-256ed613bb62"
      },
      "outputs": [
        {
          "output_type": "stream",
          "name": "stdout",
          "text": [
            "Случайные начальные синаптические веса:\n",
            "[[-0.16595599]\n",
            " [ 0.44064899]\n",
            " [-0.99977125]]\n",
            "Новые синаптические веса после тренировки: \n",
            "[[ 9.67299303]\n",
            " [-0.2078435 ]\n",
            " [-4.62963669]]\n",
            "Учитывая новую ситуацию [1, 0, 0] -> ?: \n",
            "[0.99993704]\n"
          ]
        }
      ],
      "source": [
        "from numpy import exp, array, random, dot\n",
        "\n",
        "class NeuralNetwork():\n",
        "    def __init__(self):\n",
        "        # Заполните генератор случайных чисел, чтобы он генерировал одни и те же числа при каждом запуске программы.\n",
        "        random.seed(1)\n",
        "\n",
        "        # Мы моделируем один нейрон с 3 входными подключениями и 1 выходным.\n",
        "        # Мы назначаем случайные веса матрице 3 x 1 со значениями в диапазоне от -1 до 1 и средним значением 0.\n",
        "        self.synaptic_weights = 2 * random.random((3, 1)) - 1\n",
        "\n",
        "    # Сигмовидная функция, описывающая S-образную кривую.\n",
        "    # Мы передаем взвешенную сумму входных данных через эту функцию, чтобы нормализовать их от 0 до 1.\n",
        "    def __sigmoid(self, x):\n",
        "        return 1 / (1 + exp(-x))\n",
        "\n",
        "    # Производная сигмовидной функции.\n",
        "    # Это градиент сигмовидной кривой.\n",
        "    # Это показывает, насколько мы уверены в существующем весе.\n",
        "    def __sigmoid_derivative(self, x):\n",
        "        return x * (1 - x)\n",
        "\n",
        "    # Мы обучаем нейронную сеть методом проб и ошибок.\n",
        "    # Каждый раз регулируя синаптические веса.\n",
        "    def train(self, training_set_inputs, training_set_outputs, number_of_training_iterations):\n",
        "        for iteration in range(number_of_training_iterations):\n",
        "            # Передайем обучающий набор через нашу нейронную сеть (отдельный нейрон).\n",
        "            output = self.think(training_set_inputs)\n",
        "\n",
        "            # Вычислите ошибку (разницу между желаемым и прогнозируемым выходными данными).\n",
        "            error = training_set_outputs - output\n",
        "\n",
        "            # Умножьте ошибку на вход и снова на градиент сигмовидной кривой.\n",
        "            # Это означает, что менее уверенные веса корректируются больше.\n",
        "            # Это означает, что входные данные, которые равны нулю, не вызывают изменения весов.\n",
        "            adjustment = dot(training_set_inputs.T, error * self.__sigmoid_derivative(output))\n",
        "\n",
        "            # Отрегулируйте веса.\n",
        "            self.synaptic_weights += adjustment\n",
        "\n",
        "    \n",
        "    def think(self, inputs):\n",
        "        # Передайте входные данные через нашу нейронную сеть (наш единственный нейрон).\n",
        "        return self.__sigmoid(dot(inputs, self.synaptic_weights))\n",
        "\n",
        "if __name__ == \"__main__\":\n",
        "    # Инициализируйте нейронную сеть с одним нейроном.\n",
        "    neural_network = NeuralNetwork()\n",
        "\n",
        "    print (\"Случайные начальные синаптические веса:\")\n",
        "    print (neural_network.synaptic_weights)\n",
        "\n",
        "    # Обучающий набор. У нас есть 4 примера, каждый из которых состоит из 3 входных значений и 1 выходного значения.\n",
        "    training_set_inputs = array([[0, 0, 1], [1, 1, 1], [1, 0, 1], [0, 1, 1]])\n",
        "    training_set_outputs = array([[0, 1, 1, 0]]).T\n",
        "\n",
        "    # Обучите нейронную сеть с помощью обучающего набора.\n",
        "    # Количество итераций - 10 000 раз.\n",
        "    neural_network.train(training_set_inputs, training_set_outputs, 10000)\n",
        "\n",
        "    print (\"Новые синаптические веса после тренировки: \")\n",
        "    print (neural_network.synaptic_weights)\n",
        "\n",
        "    # Протестируйте нейронную сеть в новой ситуации.\n",
        "    print (\"Учитывая новую ситуацию [1, 0, 0] -> ?: \")\n",
        "    print (neural_network.think(array([1, 0, 0])))"
      ]
    },
    {
      "cell_type": "markdown",
      "source": [
        "**Обратная тригонометрическая функция**"
      ],
      "metadata": {
        "id": "mgLx18dn5ZCs"
      }
    },
    {
      "cell_type": "code",
      "source": [
        "from numpy import exp, array, random, dot, arctan\n",
        "\n",
        "class NeuralNetwork():\n",
        "    def __init__(self):\n",
        "        # Заполните генератор случайных чисел, чтобы он генерировал одни и те же числа при каждом запуске программы.\n",
        "        random.seed(1)\n",
        "\n",
        "        # Мы моделируем один нейрон с 3 входными подключениями и 1 выходным.\n",
        "        # Мы назначаем случайные веса матрице 3 x 1 со значениями в диапазоне от -1 до 1 и средним значением 0.\n",
        "        self.synaptic_weights = 2 * random.random((3, 1)) - 1\n",
        "\n",
        "    # Сигмовидная функция, описывающая S-образную кривую.\n",
        "    # Мы передаем взвешенную сумму входных данных через эту функцию, чтобы нормализовать их от 0 до 1.\n",
        "    def _arctg(self, x):\n",
        "        return arctan(x)\n",
        "\n",
        "    # Производная обратной тригонометрической функции.\n",
        "    # Это показывает, насколько мы уверены в существующем весе.\n",
        "    def _arctg_derivative(self, x):\n",
        "        return 1 / (x**2 + 1)\n",
        "\n",
        "    # Мы обучаем нейронную сеть методом проб и ошибок.\n",
        "    # Каждый раз регулируя синаптические веса.\n",
        "    def train(self, training_set_inputs, training_set_outputs, number_of_training_iterations):\n",
        "        for iteration in range(number_of_training_iterations):\n",
        "            # Передайем обучающий набор через нашу нейронную сеть (отдельный нейрон).\n",
        "            output = self.think(training_set_inputs)\n",
        "\n",
        "            # Вычислите ошибку (разницу между желаемым и прогнозируемым выходными данными).\n",
        "            error = training_set_outputs - output\n",
        "\n",
        "            # Умножьте ошибку на вход и снова на градиент сигмовидной кривой.\n",
        "            # Это означает, что менее уверенные веса корректируются больше.\n",
        "            # Это означает, что входные данные, которые равны нулю, не вызывают изменения весов.\n",
        "            adjustment = dot(training_set_inputs.T, error * self._arctg_derivative(output))\n",
        "\n",
        "            # Отрегулируйте веса.\n",
        "            self.synaptic_weights += adjustment\n",
        "\n",
        "    \n",
        "    def think(self, inputs):\n",
        "        # Передайте входные данные через нашу нейронную сеть (наш единственный нейрон).\n",
        "        return self._arctg(dot(inputs, self.synaptic_weights))\n",
        "\n",
        "if __name__ == \"__main__\":\n",
        "    # Инициализируйте нейронную сеть с одним нейроном.\n",
        "    neural_network = NeuralNetwork()\n",
        "\n",
        "    print (\"Случайные начальные синаптические веса:\")\n",
        "    print (neural_network.synaptic_weights)\n",
        "\n",
        "    # Обучающий набор. У нас есть 4 примера, каждый из которых состоит из 3 входных значений и 1 выходного значения.\n",
        "    training_set_inputs = array([[0, 0, 1], [1, 1, 1], [1, 0, 1], [0, 1, 1]])\n",
        "    training_set_outputs = array([[0, 1, 1, 0]]).T\n",
        "\n",
        "    # Обучите нейронную сеть с помощью обучающего набора.\n",
        "    # Количество итераций - 10 000 раз.\n",
        "    neural_network.train(training_set_inputs, training_set_outputs, 10000)\n",
        "\n",
        "    print (\"Новые синаптические веса после тренировки: \")\n",
        "    print (neural_network.synaptic_weights)\n",
        "\n",
        "    # Протестируйте нейронную сеть в новой ситуации.\n",
        "    print (\"Учитывая новую ситуацию [1, 0, 0] -> ?: \")\n",
        "    print (neural_network.think(array([1, 0, 0])))"
      ],
      "metadata": {
        "colab": {
          "base_uri": "https://localhost:8080/"
        },
        "id": "aXtD7bCD4Hqb",
        "outputId": "633b395c-cd1c-437e-cf0b-2e1fbe8b67e6"
      },
      "execution_count": null,
      "outputs": [
        {
          "output_type": "stream",
          "name": "stdout",
          "text": [
            "Случайные начальные синаптические веса:\n",
            "[[-0.16595599]\n",
            " [ 0.44064899]\n",
            " [-0.99977125]]\n",
            "Новые синаптические веса после тренировки: \n",
            "[[ 1.7874685 ]\n",
            " [-0.19654517]\n",
            " [-0.52890509]]\n",
            "Учитывая новую ситуацию [1, 0, 0] -> ?: \n",
            "[1.06072648]\n"
          ]
        }
      ]
    },
    {
      "cell_type": "markdown",
      "source": [
        "В строке neural_network.train(training_set_inputs, training_set_outputs, 10000) заменим количество итераций на 1000, на 100."
      ],
      "metadata": {
        "id": "RH15qc9I9NLD"
      }
    },
    {
      "cell_type": "markdown",
      "source": [
        "**Обратная тригонометрическая функция**"
      ],
      "metadata": {
        "id": "8zONp_4n9X2D"
      }
    },
    {
      "cell_type": "code",
      "source": [
        "from numpy import exp, array, random, dot\n",
        "\n",
        "class NeuralNetwork():\n",
        "    def __init__(self):\n",
        "        # Заполните генератор случайных чисел, чтобы он генерировал одни и те же числа при каждом запуске программы.\n",
        "        random.seed(1)\n",
        "\n",
        "        # Мы моделируем один нейрон с 3 входными подключениями и 1 выходным.\n",
        "        # Мы назначаем случайные веса матрице 3 x 1 со значениями в диапазоне от -1 до 1 и средним значением 0.\n",
        "        self.synaptic_weights = 2 * random.random((3, 1)) - 1\n",
        "\n",
        "    # Сигмовидная функция, описывающая S-образную кривую.\n",
        "    # Мы передаем взвешенную сумму входных данных через эту функцию, чтобы нормализовать их от 0 до 1.\n",
        "    def __sigmoid(self, x):\n",
        "        return 1 / (1 + exp(-x))\n",
        "\n",
        "    # Производная сигмовидной функции.\n",
        "    # Это градиент сигмовидной кривой.\n",
        "    # Это показывает, насколько мы уверены в существующем весе.\n",
        "    def __sigmoid_derivative(self, x):\n",
        "        return x * (1 - x)\n",
        "\n",
        "    # Мы обучаем нейронную сеть методом проб и ошибок.\n",
        "    # Каждый раз регулируя синаптические веса.\n",
        "    def train(self, training_set_inputs, training_set_outputs, number_of_training_iterations):\n",
        "        for iteration in range(number_of_training_iterations):\n",
        "            # Передайем обучающий набор через нашу нейронную сеть (отдельный нейрон).\n",
        "            output = self.think(training_set_inputs)\n",
        "\n",
        "            # Вычислите ошибку (разницу между желаемым и прогнозируемым выходными данными).\n",
        "            error = training_set_outputs - output\n",
        "\n",
        "            # Умножьте ошибку на вход и снова на градиент сигмовидной кривой.\n",
        "            # Это означает, что менее уверенные веса корректируются больше.\n",
        "            # Это означает, что входные данные, которые равны нулю, не вызывают изменения весов.\n",
        "            adjustment = dot(training_set_inputs.T, error * self.__sigmoid_derivative(output))\n",
        "\n",
        "            # Отрегулируйте веса.\n",
        "            self.synaptic_weights += adjustment\n",
        "\n",
        "    \n",
        "    def think(self, inputs):\n",
        "        # Передайте входные данные через нашу нейронную сеть (наш единственный нейрон).\n",
        "        return self.__sigmoid(dot(inputs, self.synaptic_weights))\n",
        "\n",
        "if __name__ == \"__main__\":\n",
        "    # Инициализируйте нейронную сеть с одним нейроном.\n",
        "    neural_network = NeuralNetwork()\n",
        "\n",
        "    print (\"Случайные начальные синаптические веса:\")\n",
        "    print (neural_network.synaptic_weights)\n",
        "\n",
        "    # Обучающий набор. У нас есть 4 примера, каждый из которых состоит из 3 входных значений и 1 выходного значения.\n",
        "    training_set_inputs = array([[0, 0, 1], [1, 1, 1], [1, 0, 1], [0, 1, 1]])\n",
        "    training_set_outputs = array([[0, 1, 1, 0]]).T\n",
        "\n",
        "    # Обучите нейронную сеть с помощью обучающего набора.\n",
        "    # Количество итераций - 100 раз.\n",
        "    neural_network.train(training_set_inputs, training_set_outputs, 100)\n",
        "\n",
        "    print (\"Новые синаптические веса после тренировки: \")\n",
        "    print (neural_network.synaptic_weights)\n",
        "\n",
        "    # Протестируйте нейронную сеть в новой ситуации.\n",
        "    print (\"Учитывая новую ситуацию [1, 0, 0] -> ?: \")\n",
        "    print (neural_network.think(array([1, 0, 0])))"
      ],
      "metadata": {
        "colab": {
          "base_uri": "https://localhost:8080/"
        },
        "id": "rzkKyC568nTS",
        "outputId": "1b2c61ec-f044-4857-a8a4-1839514675f5"
      },
      "execution_count": null,
      "outputs": [
        {
          "output_type": "stream",
          "name": "stdout",
          "text": [
            "Случайные начальные синаптические веса:\n",
            "[[-0.16595599]\n",
            " [ 0.44064899]\n",
            " [-0.99977125]]\n",
            "Новые синаптические веса после тренировки: \n",
            "[[ 4.62128737]\n",
            " [-0.20338466]\n",
            " [-2.09325311]]\n",
            "Учитывая новую ситуацию [1, 0, 0] -> ?: \n",
            "[0.99025576]\n"
          ]
        }
      ]
    },
    {
      "cell_type": "markdown",
      "source": [
        "**Логистическая (сигмоида или Гладкая ступенька)**"
      ],
      "metadata": {
        "id": "CSBGMuvO9gfo"
      }
    },
    {
      "cell_type": "code",
      "source": [
        "from numpy import exp, array, random, dot, arctan\n",
        "\n",
        "class NeuralNetwork():\n",
        "    def __init__(self):\n",
        "        # Заполните генератор случайных чисел, чтобы он генерировал одни и те же числа при каждом запуске программы.\n",
        "        random.seed(1)\n",
        "\n",
        "        # Мы моделируем один нейрон с 3 входными подключениями и 1 выходным.\n",
        "        # Мы назначаем случайные веса матрице 3 x 1 со значениями в диапазоне от -1 до 1 и средним значением 0.\n",
        "        self.synaptic_weights = 2 * random.random((3, 1)) - 1\n",
        "\n",
        "    # Сигмовидная функция, описывающая S-образную кривую.\n",
        "    # Мы передаем взвешенную сумму входных данных через эту функцию, чтобы нормализовать их от 0 до 1.\n",
        "    def _arctg(self, x):\n",
        "        return arctan(x)\n",
        "\n",
        "    # Производная обратной тригонометрической функции.\n",
        "    # Это показывает, насколько мы уверены в существующем весе.\n",
        "    def _arctg_derivative(self, x):\n",
        "        return 1 / (x**2 + 1)\n",
        "\n",
        "    # Мы обучаем нейронную сеть методом проб и ошибок.\n",
        "    # Каждый раз регулируя синаптические веса.\n",
        "    def train(self, training_set_inputs, training_set_outputs, number_of_training_iterations):\n",
        "        for iteration in range(number_of_training_iterations):\n",
        "            # Передайем обучающий набор через нашу нейронную сеть (отдельный нейрон).\n",
        "            output = self.think(training_set_inputs)\n",
        "\n",
        "            # Вычислите ошибку (разницу между желаемым и прогнозируемым выходными данными).\n",
        "            error = training_set_outputs - output\n",
        "\n",
        "            # Умножьте ошибку на вход и снова на градиент сигмовидной кривой.\n",
        "            # Это означает, что менее уверенные веса корректируются больше.\n",
        "            # Это означает, что входные данные, которые равны нулю, не вызывают изменения весов.\n",
        "            adjustment = dot(training_set_inputs.T, error * self._arctg_derivative(output))\n",
        "\n",
        "            # Отрегулируйте веса.\n",
        "            self.synaptic_weights += adjustment\n",
        "\n",
        "    \n",
        "    def think(self, inputs):\n",
        "        # Передайте входные данные через нашу нейронную сеть (наш единственный нейрон).\n",
        "        return self._arctg(dot(inputs, self.synaptic_weights))\n",
        "\n",
        "if __name__ == \"__main__\":\n",
        "    # Инициализируйте нейронную сеть с одним нейроном.\n",
        "    neural_network = NeuralNetwork()\n",
        "\n",
        "    print (\"Случайные начальные синаптические веса:\")\n",
        "    print (neural_network.synaptic_weights)\n",
        "\n",
        "    # Обучающий набор. У нас есть 4 примера, каждый из которых состоит из 3 входных значений и 1 выходного значения.\n",
        "    training_set_inputs = array([[0, 0, 1], [1, 1, 1], [1, 0, 1], [0, 1, 1]])\n",
        "    training_set_outputs = array([[0, 1, 1, 0]]).T\n",
        "\n",
        "    # Обучите нейронную сеть с помощью обучающего набора.\n",
        "    # Количество итераций - 100 раз.\n",
        "    neural_network.train(training_set_inputs, training_set_outputs, 100)\n",
        "\n",
        "    print (\"Новые синаптические веса после тренировки: \")\n",
        "    print (neural_network.synaptic_weights)\n",
        "\n",
        "    # Протестируйте нейронную сеть в новой ситуации.\n",
        "    print (\"Учитывая новую ситуацию [1, 0, 0] -> ?: \")\n",
        "    print (neural_network.think(array([1, 0, 0])))"
      ],
      "metadata": {
        "colab": {
          "base_uri": "https://localhost:8080/"
        },
        "id": "OXKhmTh_8bZJ",
        "outputId": "2933282c-5db1-4bef-dfc2-2b243f3177a4"
      },
      "execution_count": null,
      "outputs": [
        {
          "output_type": "stream",
          "name": "stdout",
          "text": [
            "Случайные начальные синаптические веса:\n",
            "[[-0.16595599]\n",
            " [ 0.44064899]\n",
            " [-0.99977125]]\n",
            "Новые синаптические веса после тренировки: \n",
            "[[ 1.78746849]\n",
            " [-0.19654515]\n",
            " [-0.52890509]]\n",
            "Учитывая новую ситуацию [1, 0, 0] -> ?: \n",
            "[1.06072648]\n"
          ]
        }
      ]
    },
    {
      "cell_type": "markdown",
      "source": [
        "При меньшем количестве итераций нейросеть обучается хуже."
      ],
      "metadata": {
        "id": "HYS1hWuWE00d"
      }
    }
  ]
}